{
 "cells": [
  {
   "cell_type": "code",
   "execution_count": 1,
   "metadata": {},
   "outputs": [
    {
     "data": {
      "text/plain": [
       "'1.8.0'"
      ]
     },
     "execution_count": 1,
     "metadata": {},
     "output_type": "execute_result"
    }
   ],
   "source": [
    "import tensorflow as tf\n",
    "import numpy as np\n",
    "import math\n",
    "import time\n",
    "import os\n",
    "tf.__version__"
   ]
  },
  {
   "cell_type": "code",
   "execution_count": 2,
   "metadata": {},
   "outputs": [],
   "source": [
    "data_dir = \"C:/Users/asd/Desktop/Winter Training/BootcampStudents/Data/Task_1/\"\n",
    "# log_dir = \"C:/Users/asd/Desktop/Winter Training/BootcampStudents/log/\""
   ]
  },
  {
   "cell_type": "code",
   "execution_count": 3,
   "metadata": {},
   "outputs": [],
   "source": [
    "def load_data(kind):\n",
    "    \"\"\"\n",
    "    Akind -  ANN / LSTM\n",
    "    \"\"\"\n",
    "    data = np.load(os.path.join(data_dir, \"%s.npz\"%kind))\n",
    "    train_x, train_y = data[\"train_x\"], data[\"train_y\"]\n",
    "    val_x, val_y = data[\"val_x\"], data[\"val_y\"]\n",
    "    return train_x, train_y, val_x, val_y"
   ]
  },
  {
   "cell_type": "code",
   "execution_count": 4,
   "metadata": {},
   "outputs": [],
   "source": [
    "trainData,trainLabel,valData,valLabel=load_data('LSTM')"
   ]
  },
  {
   "cell_type": "code",
   "execution_count": 5,
   "metadata": {},
   "outputs": [
    {
     "name": "stdout",
     "output_type": "stream",
     "text": [
      "(588, 50, 2048)\n",
      "(588, 5)\n",
      "(58, 50, 2048)\n",
      "(58, 5)\n"
     ]
    }
   ],
   "source": [
    "print(trainData.shape)\n",
    "print(trainLabel.shape)\n",
    "print(valData.shape)\n",
    "print(valLabel.shape)"
   ]
  },
  {
   "cell_type": "code",
   "execution_count": 6,
   "metadata": {},
   "outputs": [],
   "source": [
    "def create_batches(start,batchSize):\n",
    "    return trainData[start:start+batchSize],trainLabel[start:start+batchSize]"
   ]
  },
  {
   "cell_type": "code",
   "execution_count": 7,
   "metadata": {},
   "outputs": [],
   "source": [
    "# train,label=create_batches(0,50)\n",
    "# print(np.shape(train))\n"
   ]
  },
  {
   "cell_type": "markdown",
   "metadata": {},
   "source": [
    "### ModelGraph"
   ]
  },
  {
   "cell_type": "markdown",
   "metadata": {},
   "source": [
    "We first define the two place holders- one for inputs and the other for the labels. The input to the model are 50 videos, each having 2048 features while the output must classify them as in 5 different classes of videos. The inputs are fed to the RNN which has 128 neurons when rolled out. Each neuron has its own output and the state. "
   ]
  },
  {
   "cell_type": "code",
   "execution_count": 8,
   "metadata": {},
   "outputs": [],
   "source": [
    "x=tf.placeholder(tf.float32,shape=[None,50, 2048])\n",
    "y_ = tf.placeholder(tf.float32, shape=[None,5])"
   ]
  },
  {
   "cell_type": "markdown",
   "metadata": {},
   "source": [
    "We define the cell as a basic RNN cell having 128 neurons, each having its own output and states. The states being redundant in our case, have been deleted to not take up the extra memory."
   ]
  },
  {
   "cell_type": "code",
   "execution_count": 9,
   "metadata": {},
   "outputs": [],
   "source": [
    "cell=tf.nn.rnn_cell.BasicRNNCell(128)"
   ]
  },
  {
   "cell_type": "markdown",
   "metadata": {},
   "source": [
    "The outputs and state are found using tf.nn.dynamic_rnn(cell,input). This means the visual input is fed to the RNNs directly first. The 128 neurons in the RNN sives their outputs. These outputs arethen fed to the ANN layer."
   ]
  },
  {
   "cell_type": "code",
   "execution_count": 10,
   "metadata": {},
   "outputs": [],
   "source": [
    "outputs, state = tf.nn.dynamic_rnn(cell, x ,dtype=tf.float32)\n",
    "del state"
   ]
  },
  {
   "cell_type": "markdown",
   "metadata": {},
   "source": [
    "The output is flattened to be fed to the neurons in the first Artificial Neural Network which forms the result according to them."
   ]
  },
  {
   "cell_type": "code",
   "execution_count": 11,
   "metadata": {},
   "outputs": [],
   "source": [
    "output=tf.reshape(outputs,[-1,50*128])"
   ]
  },
  {
   "cell_type": "code",
   "execution_count": 12,
   "metadata": {},
   "outputs": [],
   "source": [
    "def initializeLayer(inputs,outputs):\n",
    "    return tf.Variable(tf.truncated_normal([inputs,outputs],stddev=0.1)), tf.Variable(tf.zeros([outputs]))#input to output dimensions of the weight matrix"
   ]
  },
  {
   "cell_type": "markdown",
   "metadata": {},
   "source": [
    "### Calculating the cross entropy"
   ]
  },
  {
   "cell_type": "code",
   "execution_count": 13,
   "metadata": {},
   "outputs": [],
   "source": [
    "def lossCompute():\n",
    "    return tf.reduce_mean(tf.nn.softmax_cross_entropy_with_logits(labels=y_, logits=y))"
   ]
  },
  {
   "cell_type": "markdown",
   "metadata": {},
   "source": [
    "### Training Op"
   ]
  },
  {
   "cell_type": "code",
   "execution_count": 14,
   "metadata": {},
   "outputs": [],
   "source": [
    "def trainstep(alpha, crossentropy):\n",
    "    return tf.train.GradientDescentOptimizer(alpha).minimize(crossentropy)"
   ]
  },
  {
   "cell_type": "code",
   "execution_count": 15,
   "metadata": {},
   "outputs": [],
   "source": [
    "def findaccuracy(y,y_):\n",
    "    correct_prediction = tf.equal(tf.argmax(y,1), tf.argmax(y_,1))\n",
    "    accuracy = tf.reduce_mean(tf.cast(correct_prediction, tf.float32))\n",
    "    return correct_prediction,accuracy"
   ]
  },
  {
   "cell_type": "code",
   "execution_count": 16,
   "metadata": {},
   "outputs": [],
   "source": [
    "# def compute(epochs,iterations):\n",
    "#     for i in range(epochs):\n",
    "#         for j in range(iterations):\n",
    "#             batchData,batchLabel=create_batches(j*98,98,0)\n",
    "#             train_step.run(feed_dict={x: batchData, y_: batchLabel})\n",
    "#         print(\"accuracy\", accuracy.eval(feed_dict={x: valData, y_: valLabel}))"
   ]
  },
  {
   "cell_type": "code",
   "execution_count": null,
   "metadata": {},
   "outputs": [
    {
     "name": "stdout",
     "output_type": "stream",
     "text": [
      "WARNING:tensorflow:From <ipython-input-13-e76f70af4767>:2: softmax_cross_entropy_with_logits (from tensorflow.python.ops.nn_ops) is deprecated and will be removed in a future version.\n",
      "Instructions for updating:\n",
      "\n",
      "Future major versions of TensorFlow will allow gradients to flow\n",
      "into the labels input on backprop by default.\n",
      "\n",
      "See @{tf.nn.softmax_cross_entropy_with_logits_v2}.\n",
      "\n",
      "accuracy 0.258621\n",
      "accuracy 0.482759\n",
      "accuracy 0.586207\n",
      "accuracy 0.586207\n",
      "accuracy 0.603448\n",
      "accuracy 0.637931\n"
     ]
    }
   ],
   "source": [
    "with tf.Session() as sess:\n",
    "    W1,B1=initializeLayer(50*128,128)\n",
    "    W2,B2=initializeLayer(128,5)\n",
    "    sess.run(tf.global_variables_initializer())\n",
    "    #x = tf.placeholder(tf.float32, shape=[None,102400])\n",
    "    #y_ = tf.placeholder(tf.float32, shape=[None, 5])\n",
    "    y1 = tf.matmul(output,W1) + B1\n",
    "    fy1 = tf.nn.leaky_relu(y1)\n",
    "    y = tf.matmul(y1,W2) + B2\n",
    "    cross_entropy=lossCompute()\n",
    "    train_step = trainstep(0.7e-3,cross_entropy)\n",
    "    correct_prediction,accuracy=findaccuracy(y,y_)\n",
    "    for i in range(20):\n",
    "        for j in range(6):\n",
    "            batchData,batchLabel=create_batches(j*98,98)\n",
    "            train_step.run(feed_dict={x: batchData, y_: batchLabel})\n",
    "        print(\"accuracy\", accuracy.eval(feed_dict={x: valData, y_: valLabel}))"
   ]
  },
  {
   "cell_type": "code",
   "execution_count": null,
   "metadata": {},
   "outputs": [],
   "source": []
  }
 ],
 "metadata": {
  "kernelspec": {
   "display_name": "Python 3",
   "language": "python",
   "name": "python3"
  },
  "language_info": {
   "codemirror_mode": {
    "name": "ipython",
    "version": 3
   },
   "file_extension": ".py",
   "mimetype": "text/x-python",
   "name": "python",
   "nbconvert_exporter": "python",
   "pygments_lexer": "ipython3",
   "version": "3.6.4"
  }
 },
 "nbformat": 4,
 "nbformat_minor": 2
}
